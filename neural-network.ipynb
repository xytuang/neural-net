{
 "cells": [
  {
   "cell_type": "code",
   "execution_count": 2,
   "id": "7ca8ca0b-e591-4e98-876d-815a67d27fa4",
   "metadata": {},
   "outputs": [],
   "source": [
    "import numpy as np\n",
    "import math"
   ]
  },
  {
   "cell_type": "code",
   "execution_count": 3,
   "id": "2c69e5c3-f976-459d-8c4f-856cb98b1541",
   "metadata": {},
   "outputs": [],
   "source": [
    "def sigmoid(features, weights):\n",
    "    return 1/(1+math.exp(-np.dot(features, weights)))\n",
    "\n",
    "def sigmoid(z):\n",
    "    return 1/(1+math.exp(-z))\n",
    "\n",
    "#cost function for sigmoid\n",
    "def sigmoid_cost(features, labels, weights):\n",
    "    observations = len(labels)\n",
    "    predictions = sigmoid(features, weights)\n",
    "    class1_cost = -labels*np.log(predictions)\n",
    "    class2_cost = -(1-labels)*np.log(1-predictions)\n",
    "    \n",
    "    cost = class1_cost + class2_cost\n",
    "    return cost.sum() / observations\n",
    "    \n",
    "\n",
    "def dense(a_in, W, b):\n",
    "    units = W.shape[1]\n",
    "    a_out = np.zeros(unit)\n",
    "    for i in range(units):\n",
    "        w = W[:,i]\n",
    "        z = np.dot(w,a_in) + b[i]\n",
    "        a_out[i] = sigmoid(z)\n",
    "    return a_out\n",
    "    "
   ]
  },
  {
   "cell_type": "code",
   "execution_count": 4,
   "id": "d8d6e16d-8fa4-42ac-a5b4-5de524a7b336",
   "metadata": {},
   "outputs": [],
   "source": [
    "def sequential(x):\n",
    "    a1 = dense(x, W1, b1)\n",
    "    a2 = dense(a1, W2, b2)\n",
    "    a3 = dense(a2, W3, b3)\n",
    "    a4 = dense(a3, W4, b4)\n",
    "    return a4"
   ]
  },
  {
   "cell_type": "code",
   "execution_count": null,
   "id": "eb7712f1-f63f-4f66-b800-85d2707481ee",
   "metadata": {},
   "outputs": [],
   "source": []
  }
 ],
 "metadata": {
  "kernelspec": {
   "display_name": "Python 3 (ipykernel)",
   "language": "python",
   "name": "python3"
  },
  "language_info": {
   "codemirror_mode": {
    "name": "ipython",
    "version": 3
   },
   "file_extension": ".py",
   "mimetype": "text/x-python",
   "name": "python",
   "nbconvert_exporter": "python",
   "pygments_lexer": "ipython3",
   "version": "3.10.6"
  }
 },
 "nbformat": 4,
 "nbformat_minor": 5
}
